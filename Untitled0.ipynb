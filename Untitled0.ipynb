{
  "nbformat": 4,
  "nbformat_minor": 0,
  "metadata": {
    "colab": {
      "provenance": [],
      "toc_visible": true,
      "authorship_tag": "ABX9TyPaICmfy0L/V0mqQCr1ccsR",
      "include_colab_link": true
    },
    "kernelspec": {
      "name": "python3",
      "display_name": "Python 3"
    },
    "language_info": {
      "name": "python"
    }
  },
  "cells": [
    {
      "cell_type": "markdown",
      "metadata": {
        "id": "view-in-github",
        "colab_type": "text"
      },
      "source": [
        "<a href=\"https://colab.research.google.com/github/MelchiorKaczmarzyk/InternshipTutorialCode/blob/main/Untitled0.ipynb\" target=\"_parent\"><img src=\"https://colab.research.google.com/assets/colab-badge.svg\" alt=\"Open In Colab\"/></a>"
      ]
    },
    {
      "cell_type": "markdown",
      "source": [
        "###Hello Collab!"
      ],
      "metadata": {
        "id": "4jrdGDZ5wtSW"
      }
    },
    {
      "cell_type": "code",
      "execution_count": null,
      "metadata": {
        "colab": {
          "base_uri": "https://localhost:8080/"
        },
        "id": "_Tc6ftTFnw-d",
        "outputId": "e6803f70-97a9-417b-84b4-51688ae12798"
      },
      "outputs": [
        {
          "output_type": "stream",
          "name": "stdout",
          "text": [
            "Hello Collab\n"
          ]
        }
      ],
      "source": [
        "print(\"Hello Collab!\")"
      ]
    },
    {
      "cell_type": "markdown",
      "source": [
        "###Some code I guess"
      ],
      "metadata": {
        "id": "ESd5K68Jwr29"
      }
    },
    {
      "cell_type": "code",
      "source": [],
      "metadata": {
        "id": "aoD_bJExwsvG"
      },
      "execution_count": null,
      "outputs": []
    }
  ]
}